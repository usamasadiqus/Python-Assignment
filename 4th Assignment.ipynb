{
 "cells": [
  {
   "cell_type": "code",
   "execution_count": 37,
   "metadata": {},
   "outputs": [
    {
     "name": "stdout",
     "output_type": "stream",
     "text": [
      "Enter first name Usama\n",
      "Enter last name Sadiq\n",
      "Enter age 21\n",
      "Enter your recent city name where you live Karachi\n",
      "\n",
      " {'first_name': 'Usama', 'last_name': 'Sadiq', 'age': 21, 'city': 'Karachi'}\n",
      "\n",
      "After Add New Key\n",
      "\n",
      " {'first_name': 'Usama', 'last_name': 'Sadiq', 'age': 21, 'city': 'Karachi', 'qualification': 'Intermediate'}\n",
      "\n",
      "After Delete New Key\n",
      "\n",
      " {'first_name': 'Usama', 'last_name': 'Sadiq', 'age': 21, 'city': 'Karachi'}\n"
     ]
    }
   ],
   "source": [
    "\"\"\"\n",
    "Q1) Use a dictionary to store information about a person you know. Store their first name, last name, age, and the city\n",
    "in which they live. You should have keys such as first_name, last_name, age, and city. Print each piece of information\n",
    "stored in your dictionary. Add a new key value pair about qualification then update the qualification value to high academic\n",
    "level then delete it.\n",
    "\n",
    "\"\"\"\n",
    "\n",
    "first_name = input(\"Enter first name \")\n",
    "last_name = input(\"Enter last name \")\n",
    "age = int(input(\"Enter age \"))\n",
    "city = input(\"Enter your recent city name where you live \")\n",
    "\n",
    "person = {\n",
    "    \"first_name\": first_name,\n",
    "    \"last_name\": last_name,\n",
    "    \"age\": age,\n",
    "    \"city\": city\n",
    "}\n",
    "\n",
    "print(\"\\n\",person)\n",
    "\n",
    "person[\"qualification\"] = \"Intermediate\"\n",
    "\n",
    "print(\"\\nAfter Add New Key\\n\\n\",person)\n",
    "\n",
    "del(person[\"qualification\"])\n",
    "\n",
    "print(\"\\nAfter Delete New Key\\n\\n\",person)"
   ]
  },
  {
   "cell_type": "code",
   "execution_count": 38,
   "metadata": {},
   "outputs": [
    {
     "name": "stdout",
     "output_type": "stream",
     "text": [
      "\n",
      "Karachi in Pakistan\n",
      "\n",
      "\tKarachi population is : 14.91 Million\n",
      "\n",
      "\tKarachi fact is : Karachi Is Also Known As City Of Lights.\n",
      "\n",
      "Mumbai in India\n",
      "\n",
      "\tMumbai population is : 18.41 Million\n",
      "\n",
      "\tMumbai fact is : Mumbai’S Trains Alone Carry Six Million People Per Day—Equivalent To The Entire Population Of Israel.\n",
      "\n",
      "Birmingham in United Kingdom\n",
      "\n",
      "\tBirmingham population is : 1.086 Million\n",
      "\n",
      "\tBirmingham fact is : The City Is The Third Most Popular Place To Shop In The Whole Of The Uk.\n"
     ]
    }
   ],
   "source": [
    "\"\"\"\n",
    "Q2) Make a dictionary called cities. Use the names of three cities as keys in your dictionary. Create a dictionary of\n",
    "information about each city and include the country that the city is in, its approximate population, and one fact about\n",
    "that city. The keys for each city’s dictionary should be something like country, population, and fact. Print the name of\n",
    "each city and all of the information you have stored about it.\n",
    "\n",
    "\"\"\"\n",
    "\n",
    "cities = {\n",
    "    \"Karachi\": {\n",
    "        \"Country\": \"pAkIstAN\",\n",
    "        \"Population\": \"14.91 miLLioN\",\n",
    "        \"Fact\": \"kaRAchI iS aLsO KnOwN aS ciTY oF LiGHTs.\"\n",
    "    },\n",
    "    \"Mumbai\": {\n",
    "        \"Country\": \"inDIa\",\n",
    "        \"Population\": \"18.41 miLLioN\",\n",
    "        \"Fact\": \"muMbAi’S tRAiNs alOnE cArRy sIX mILlIoN peOPle pEr daY—eqUIvAlEnT tO tHe eNTiRe pOpULaTiON oF isRAeL.\"\n",
    "    },\n",
    "    \"Birmingham\": {\n",
    "        \"Country\": \"unItED kiNgDOm\",\n",
    "        \"Population\": \"1.086 miLLioN\",\n",
    "        \"Fact\": \"thE cItY iS tHe thIRd mOsT pOpULaR plAcE tO sHOp iN tHe whOLe oF tHe uK.\"\n",
    "    }\n",
    "}\n",
    "\n",
    "for city, info in cities.items() :\n",
    "    country_name = info[\"Country\"].title()\n",
    "    population = info[\"Population\"].title()\n",
    "    fact = info[\"Fact\"].title()\n",
    "\n",
    "    print(\"\\n\" + city + \" in \" + country_name)\n",
    "    print(\"\\n\\t\" + city + \" population is : \" + population)\n",
    "    print(\"\\n\\t\" + city + \" fact is : \" + fact)"
   ]
  },
  {
   "cell_type": "code",
   "execution_count": 39,
   "metadata": {},
   "outputs": [
    {
     "name": "stdout",
     "output_type": "stream",
     "text": [
      "Enter your age : 21\n",
      "\n",
      "You're ticket is $15.\n",
      "\n",
      "Enter your age : 6\n",
      "\n",
      "You're ticket is $10.\n",
      "\n",
      "Enter your age : 2\n",
      "\n",
      "You're ticket is free\n",
      "\n",
      "Enter your age : x\n"
     ]
    }
   ],
   "source": [
    "\"\"\"\n",
    "Q3) A movie theater charges different ticket prices depending on a person’s age. If a person is under the age of 3,\n",
    "the ticket is free; if they are between 3 and 12, the ticket is $10; and if they are over age 12, the ticket is $15.\n",
    "Write a loop in which you ask users their age, and then tell them the cost of their movie ticket.\n",
    "\n",
    "\"\"\"\n",
    "\n",
    "while True:\n",
    "    \n",
    "    age = input(\"Enter your age : \")\n",
    "    \n",
    "    if age.lower() == 'x' :\n",
    "        break\n",
    "\n",
    "    else : \n",
    "        age = int(age)\n",
    "        \n",
    "        if age < 3 :\n",
    "            print(\"\\nYou're ticket is free\\n\")\n",
    "        elif age >= 3 and age <= 12 :\n",
    "            print(\"\\nYou're ticket is $10.\\n\")\n",
    "        else :\n",
    "            print(\"\\nYou're ticket is $15.\\n\")"
   ]
  },
  {
   "cell_type": "code",
   "execution_count": 40,
   "metadata": {},
   "outputs": [
    {
     "name": "stdout",
     "output_type": "stream",
     "text": [
      "My favourite book is Alice In Wonderland.\n",
      "My favourite book is Rich Dad Poor Dad.\n"
     ]
    }
   ],
   "source": [
    "\"\"\"\n",
    "Q4) Write a function called favorite_book() that accepts one parameter, title. The function should print a message,\n",
    "such as One of my favorite books is Alice in Wonderland. Call the function, making sure to include a book title as an\n",
    "argument in the function call.\n",
    "\n",
    "\"\"\"\n",
    "\n",
    "def favorite_book(title) :\n",
    "    print(\"My favourite book is\", title.title())\n",
    "    \n",
    "favorite_book('alICe iN wONdeRlAnD.')\n",
    "favorite_book('rICh dAD poOR dAd.')"
   ]
  },
  {
   "cell_type": "code",
   "execution_count": 45,
   "metadata": {},
   "outputs": [
    {
     "name": "stdout",
     "output_type": "stream",
     "text": [
      "You have 3 chances to find correct number between (1 to 30) : 23\n",
      "\n",
      "23 is greater than hidden number\n",
      "\n",
      "You have 2 chances to find correct number between (1 to 30) : 14\n",
      "\n",
      "14 is greater than hidden number\n",
      "\n",
      "You have 1 chances to find correct number between (1 to 30) : 5\n",
      "\n",
      "5 is smaller than hidden number\n",
      "\n",
      "You Lost, Better Luck Next Time !\n",
      "\n",
      "Correct number is : 12\n"
     ]
    }
   ],
   "source": [
    "\"\"\"\n",
    "Q5) Guess the number game\n",
    "\n",
    "Write a program which randomly generate a number between 1 to 30 and ask the user in input field to guess the correct number.\n",
    "Give three chances to user guess the number and also give hint to user if hidden number is greater or smaller than the number\n",
    "he given to input field.\n",
    "\n",
    "\"\"\"\n",
    "\n",
    "import random\n",
    "\n",
    "rand_num = random.uniform(1, 30)\n",
    "number = round(rand_num)\n",
    "\n",
    "num = 3\n",
    "\n",
    "while num > 0 :\n",
    "    user_value = int(input(f\"You have {num} chances to find correct number between (1 to 30) : \"))\n",
    "    \n",
    "    if user_value == number :\n",
    "        print(f\"Hurraay ! You found correct number {number}\")\n",
    "        break;\n",
    "    elif user_value > number :\n",
    "        print(f\"\\n{user_value} is greater than hidden number\\n\")\n",
    "        num -= 1\n",
    "    elif user_value < number :\n",
    "        print(f\"\\n{user_value} is smaller than hidden number\\n\")\n",
    "        num -= 1\n",
    "    elif user_value < 1 or user_value > 30 :\n",
    "        print(\"\\nType correct number because hidden number between (1 to 30)\\n\")\n",
    "        num -= 1\n",
    "    \n",
    "if num == 0 :\n",
    "    print(\"You Lost, Better Luck Next Time !\\n\")    \n",
    "    print(f\"Correct number is : {number}\")"
   ]
  },
  {
   "cell_type": "code",
   "execution_count": null,
   "metadata": {},
   "outputs": [],
   "source": []
  }
 ],
 "metadata": {
  "kernelspec": {
   "display_name": "Python 3",
   "language": "python",
   "name": "python3"
  },
  "language_info": {
   "codemirror_mode": {
    "name": "ipython",
    "version": 3
   },
   "file_extension": ".py",
   "mimetype": "text/x-python",
   "name": "python",
   "nbconvert_exporter": "python",
   "pygments_lexer": "ipython3",
   "version": "3.7.4"
  }
 },
 "nbformat": 4,
 "nbformat_minor": 2
}
