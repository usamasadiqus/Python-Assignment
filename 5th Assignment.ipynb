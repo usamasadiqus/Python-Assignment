{
 "cells": [
  {
   "cell_type": "code",
   "execution_count": 22,
   "metadata": {},
   "outputs": [
    {
     "name": "stdout",
     "output_type": "stream",
     "text": [
      "Enter a number: 6\n",
      "The factorial of 6 is 720\n"
     ]
    }
   ],
   "source": [
    "\"\"\"\n",
    "Q1) Write a Python function to calculate the factorial of a number (a non-negative integer). The function\n",
    "accepts the number as an argument ?\n",
    "\n",
    "\"\"\"\n",
    "\n",
    "def factorial(num):\n",
    "    if num == 0 or num == 1:\n",
    "        return num\n",
    "    else:\n",
    "        return num*factorial(num-1)\n",
    "\n",
    "value = int(input(\"Enter a number: \"))\n",
    "print(\"The factorial of\", value, \"is\", factorial(value))"
   ]
  },
  {
   "cell_type": "code",
   "execution_count": 30,
   "metadata": {},
   "outputs": [
    {
     "name": "stdout",
     "output_type": "stream",
     "text": [
      "12 upper case letters\n",
      "6 lower case letters\n"
     ]
    }
   ],
   "source": [
    "\"\"\" \n",
    "Q2) Write a Python function that accepts a string and calculate the number of upper case letters and \n",
    "lower case letters ?\n",
    "\n",
    "\"\"\"\n",
    "\n",
    "def findupperlower(val) : \n",
    "    upper_case = 0 \n",
    "    lower_case = 0\n",
    "\n",
    "    for letters in val :\n",
    "        if letters == letters.upper() :\n",
    "            upper_case += 1 # upper_case += 1 same as upper_case = upper_case + 1\n",
    "        elif letters == letters.lower() : \n",
    "            lower_case += 1 # lower_case += 1 same as lower_case = lower_case + 1\n",
    "\n",
    "    print(f\"{upper_case} upper case letters\")\n",
    "    print(f\"{lower_case} lower case letters\")\n",
    "    \n",
    "findupperlower(\"AABBCCDDEEFFgghhii\")"
   ]
  },
  {
   "cell_type": "code",
   "execution_count": 39,
   "metadata": {},
   "outputs": [
    {
     "name": "stdout",
     "output_type": "stream",
     "text": [
      "0 is even number\n",
      "2 is even number\n",
      "4 is even number\n",
      "6 is even number\n",
      "8 is even number\n",
      "10 is even number\n"
     ]
    }
   ],
   "source": [
    "\"\"\"\n",
    "Q3) Write a Python function to print the even numbers from a given list ?\n",
    "\n",
    "\"\"\"\n",
    "\n",
    "def findevennum(num) :\n",
    "    for nums in num :\n",
    "        if nums % 2 == 0 :\n",
    "            print(nums, \"is even number\")\n",
    "            \n",
    "findevennum([0,1,2,3,4,5,6,7,8,9,10])"
   ]
  },
  {
   "cell_type": "code",
   "execution_count": 41,
   "metadata": {},
   "outputs": [
    {
     "name": "stdout",
     "output_type": "stream",
     "text": [
      "maham is palindrome\n",
      "usama is not palindrome\n"
     ]
    }
   ],
   "source": [
    "\"\"\"\n",
    "Q4) Write a Python function that checks whether a passed string is palindrome or not ?\n",
    "Note: A palindrome is a word, phrase, or sequence that reads the same backward as forward, e.g., madam \n",
    "\n",
    "\"\"\"\n",
    "\n",
    "def palindrome(val):\n",
    "    if val == val[::-1]:\n",
    "        print(val + \" is palindrome\")\n",
    "    else:\n",
    "        print(val + \" is not palindrome\")\n",
    "\n",
    "palindrome(\"maham\")\n",
    "palindrome(\"usama\")"
   ]
  },
  {
   "cell_type": "code",
   "execution_count": 52,
   "metadata": {},
   "outputs": [
    {
     "name": "stdout",
     "output_type": "stream",
     "text": [
      "19 is prime number\n",
      "16 is not a prime number\n"
     ]
    }
   ],
   "source": [
    "\"\"\"\n",
    "Q5) Write a Python function that takes a number as a parameter and check the number is prime or not ?\n",
    "\n",
    "\"\"\"\n",
    "\n",
    "def findprimenum(num) :\n",
    "    flag = True\n",
    "    \n",
    "    if num > 1 :\n",
    "        for i in range(2, num) :\n",
    "            if(num % i) == 0 :\n",
    "                print(f\"{num} is not a prime number\")\n",
    "                flag = False\n",
    "                break\n",
    "        if flag :\n",
    "            print(f\"{num} is prime number\")\n",
    "    else :\n",
    "        print(f\"{num} is not prime number\")\n",
    "    \n",
    "findprimenum(19)\n",
    "findprimenum(16)"
   ]
  },
  {
   "cell_type": "code",
   "execution_count": 63,
   "metadata": {},
   "outputs": [
    {
     "name": "stdout",
     "output_type": "stream",
     "text": [
      "Items :\n",
      "\tKnife\n",
      "\tLaptop\n",
      "\tBooks\n"
     ]
    }
   ],
   "source": [
    "\"\"\"\n",
    "Q6) Suppose a customer is shopping in a market and you need to print all the items which user \n",
    "bought from market.\n",
    "Write a function which accepts the multiple arguments of user shopping list and print all the items \n",
    "which user bought from market.\n",
    "(Hint: Arbitrary Argument concept can make this task ease)\n",
    "\n",
    "\"\"\"\n",
    "\n",
    "def items(*items) :\n",
    "    print(\"Items :\")\n",
    "    for item in items :\n",
    "        print(f\"\\t{item}\")\n",
    "        \n",
    "items(\"Knife\", \"Laptop\", \"Books\")"
   ]
  },
  {
   "cell_type": "code",
   "execution_count": null,
   "metadata": {},
   "outputs": [],
   "source": []
  }
 ],
 "metadata": {
  "kernelspec": {
   "display_name": "Python 3",
   "language": "python",
   "name": "python3"
  },
  "language_info": {
   "codemirror_mode": {
    "name": "ipython",
    "version": 3
   },
   "file_extension": ".py",
   "mimetype": "text/x-python",
   "name": "python",
   "nbconvert_exporter": "python",
   "pygments_lexer": "ipython3",
   "version": "3.7.4"
  }
 },
 "nbformat": 4,
 "nbformat_minor": 2
}
