{
 "cells": [
  {
   "cell_type": "code",
   "execution_count": 7,
   "metadata": {},
   "outputs": [
    {
     "name": "stdout",
     "output_type": "stream",
     "text": [
      "Twinkle, twinkle, little star,\n",
      "\tHow I wonder what you are!\n",
      "\t\tUp above the world so high,\n",
      "\t\tLike a diamond in the sky.\n",
      "Twinkle, twinkle, little star,\n",
      "\tHow I wonder what you are!\n"
     ]
    }
   ],
   "source": [
    "firstline = \"Twinkle, twinkle, little star,\"\n",
    "secondline = \"How I wonder what you are!\"\n",
    "thirdline = \"Up above the world so high,\"\n",
    "forthline = \"Like a diamond in the sky.\"\n",
    "\n",
    "print(firstline + \"\\n\\t\" + secondline + \"\\n\\t\\t\" + thirdline + \"\\n\\t\\t\" + forthline + \"\\n\" + firstline + \"\\n\\t\" + secondline)"
   ]
  },
  {
   "cell_type": "code",
   "execution_count": 12,
   "metadata": {},
   "outputs": [
    {
     "name": "stdout",
     "output_type": "stream",
     "text": [
      "Python Version\n",
      " 3.7.4 (default, Aug  9 2019, 18:34:13) [MSC v.1915 64 bit (AMD64)]\n",
      "Version Information\n",
      " sys.version_info(major=3, minor=7, micro=4, releaselevel='final', serial=0)\n"
     ]
    }
   ],
   "source": [
    "import sys\n",
    "\n",
    "python_version = \"Python Version\\n\"\n",
    "version_information = \"Version Information\\n\"\n",
    "\n",
    "print(python_version, sys.version)\n",
    "print(version_information, sys.version_info)"
   ]
  },
  {
   "cell_type": "code",
   "execution_count": 58,
   "metadata": {},
   "outputs": [
    {
     "name": "stdout",
     "output_type": "stream",
     "text": [
      "Current DateTime 2019-11-01 23:06:03.741919\n",
      "Current Year 2019\n",
      "Current Month 11\n",
      "Current Day 1\n",
      "Current Hour 23\n",
      "Current Minute 6\n"
     ]
    }
   ],
   "source": [
    "import datetime\n",
    "\n",
    "now = datetime.datetime.now()\n",
    "currentYear = now.year\n",
    "currentMonth = now.month\n",
    "currentDay = now.day\n",
    "currentHour = now.hour\n",
    "currentMinute = now.minute\n",
    "\n",
    "print(\"Current DateTime\", now)\n",
    "print(\"Current Year\", currentYear)\n",
    "print(\"Current Month\", currentMonth)\n",
    "print(\"Current Day\", currentDay)\n",
    "print(\"Current Hour\", currentHour)\n",
    "print(\"Current Minute\", currentMinute)"
   ]
  },
  {
   "cell_type": "code",
   "execution_count": 5,
   "metadata": {},
   "outputs": [
    {
     "name": "stdout",
     "output_type": "stream",
     "text": [
      "Enter radius of a circle 10\n",
      "Area of circle is  314.0\n"
     ]
    }
   ],
   "source": [
    "# Area = pi*r**2\n",
    "\n",
    "pi = 3.14\n",
    "r = int(input(\"Enter radius of a circle \"))\n",
    "a = pi * r ** 2\n",
    "print(\"Area of circle is \", a)"
   ]
  },
  {
   "cell_type": "code",
   "execution_count": 10,
   "metadata": {},
   "outputs": [
    {
     "name": "stdout",
     "output_type": "stream",
     "text": [
      "Enter first name Anus\n",
      "Enter last name Khan\n",
      "sunA\n",
      "nahK\n"
     ]
    }
   ],
   "source": [
    "first_name = input(\"Enter first name \")\n",
    "last_name = input(\"Enter last name \")\n",
    "print(first_name[::-1])\n",
    "print(last_name[::-1])"
   ]
  },
  {
   "cell_type": "code",
   "execution_count": 13,
   "metadata": {},
   "outputs": [
    {
     "name": "stdout",
     "output_type": "stream",
     "text": [
      "Enter math number 30\n",
      "Enter physics number 40\n",
      "Final result is:  70\n"
     ]
    }
   ],
   "source": [
    "num1 = int(input(\"Enter math number \"))\n",
    "num2 = int(input(\"Enter physics number \"))\n",
    "result = num1 + num2\n",
    "print(\"Final result is: \", result)"
   ]
  },
  {
   "cell_type": "code",
   "execution_count": null,
   "metadata": {},
   "outputs": [],
   "source": []
  }
 ],
 "metadata": {
  "kernelspec": {
   "display_name": "Python 3",
   "language": "python",
   "name": "python3"
  },
  "language_info": {
   "codemirror_mode": {
    "name": "ipython",
    "version": 3
   },
   "file_extension": ".py",
   "mimetype": "text/x-python",
   "name": "python",
   "nbconvert_exporter": "python",
   "pygments_lexer": "ipython3",
   "version": "3.7.4"
  }
 },
 "nbformat": 4,
 "nbformat_minor": 2
}
