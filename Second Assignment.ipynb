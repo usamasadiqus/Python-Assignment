{
 "cells": [
  {
   "cell_type": "code",
   "execution_count": 32,
   "metadata": {},
   "outputs": [
    {
     "name": "stdout",
     "output_type": "stream",
     "text": [
      "Enter urdu subject no : 88\n",
      "Enter math subject no : 77\n",
      "Enter english subject no : 66\n",
      "Enter physics subject no : 59\n",
      "Enter chemistry subject no : 95\n",
      "\n",
      "Grade : A\n"
     ]
    }
   ],
   "source": [
    "\"\"\"\n",
    "Q1) Write a program which takes 5 inputs from user for different subject’s marks, total it and generate mark sheet\n",
    "using grades ?\n",
    "\n",
    "\"\"\" \n",
    "\n",
    "urdu = int(input(\"Enter urdu subject no : \"))\n",
    "math = int(input(\"Enter math subject no : \"))\n",
    "english = int(input(\"Enter english subject no : \"))\n",
    "physics = int(input(\"Enter physics subject no : \"))\n",
    "chemistry = int(input(\"Enter chemistry subject no : \"))\n",
    "\n",
    "total = 500\n",
    "obtain = urdu + math + english + physics + chemistry\n",
    "percentage = obtain / total * 100\n",
    "\n",
    "if (percentage >= 80 and percentage <= 100) :\n",
    "    print(\"\\nGrade : A+\")\n",
    "elif (percentage >= 70 and percentage < 80) :\n",
    "    print(\"\\nGrade : A\")\n",
    "elif (percentage >= 60 and percentage < 70) :\n",
    "    print(\"\\nGrade : B\")\n",
    "elif (percentage >= 50 and percentage < 60) :\n",
    "    print(\"\\nGrade : C\")\n",
    "elif (percentage >= 40 and percentage < 50) :\n",
    "    print(\"\\nGrade : D\")\n",
    "elif (percentage >= 33 and percentage < 40) :\n",
    "    print(\"\\nGrade : E\")\n",
    "elif (percentage > 0 and percentage < 33 and percentage <= 100) :\n",
    "    print(\"\\nGrade : Fail\")\n",
    "else :\n",
    "    print(\"\\nYou've given inapproperiate %\")"
   ]
  },
  {
   "cell_type": "code",
   "execution_count": 33,
   "metadata": {},
   "outputs": [
    {
     "name": "stdout",
     "output_type": "stream",
     "text": [
      "Enter any number : 387\n",
      "387 is odd number\n"
     ]
    }
   ],
   "source": [
    "\"\"\"\n",
    "Q2) Write a program which take input from user and identify that the given number is even or odd?\n",
    "\n",
    "\"\"\" \n",
    "\n",
    "num = int(input(\"Enter any number : \"))\n",
    "\n",
    "if (num % 2 == 0) :\n",
    "    print(num, \"is even number\")\n",
    "else :\n",
    "    print(num, \"is odd number\")"
   ]
  },
  {
   "cell_type": "code",
   "execution_count": 34,
   "metadata": {},
   "outputs": [
    {
     "name": "stdout",
     "output_type": "stream",
     "text": [
      "Length of array is : 4\n"
     ]
    }
   ],
   "source": [
    "\"\"\"\n",
    "Q3) Write a program which print the length of the list?\n",
    "\n",
    "\"\"\" \n",
    "\n",
    "arr = [\"Usama\", 11, 109.6, True]\n",
    "print(\"Length of array is :\", len(arr))"
   ]
  },
  {
   "cell_type": "code",
   "execution_count": 35,
   "metadata": {},
   "outputs": [
    {
     "name": "stdout",
     "output_type": "stream",
     "text": [
      "Sum of numeric value is : 3122\n"
     ]
    }
   ],
   "source": [
    "\"\"\"\n",
    "Q4) Write a Python program to sum all the numeric items in a list?\n",
    "\n",
    "\"\"\" \n",
    "\n",
    "arr = [22, 48, 69, 1129, 100, 487, 926, 341]\n",
    "print(\"Sum of numeric value is :\", sum(arr))"
   ]
  },
  {
   "cell_type": "code",
   "execution_count": 36,
   "metadata": {},
   "outputs": [
    {
     "name": "stdout",
     "output_type": "stream",
     "text": [
      "Largest value in list is : 1129\n"
     ]
    }
   ],
   "source": [
    "\"\"\"\n",
    "Q5) Write a Python program to get the largest number from a numeric list?\n",
    "\n",
    "\"\"\" \n",
    "\n",
    "arr = [22, 48, 69, 1129, 100, 487, 926, 341]\n",
    "print(\"Largest value in list is :\", max(arr))"
   ]
  },
  {
   "cell_type": "code",
   "execution_count": 37,
   "metadata": {},
   "outputs": [
    {
     "name": "stdout",
     "output_type": "stream",
     "text": [
      "Less than 5 integer value : [1, 1, 2, 3]\n"
     ]
    }
   ],
   "source": [
    "\"\"\"\n",
    "Q6) Write a program that prints out all the elements of the list that are\n",
    "less than 5?\n",
    "\n",
    "Take a list, say for example this one:\n",
    "arr = [1, 1, 2, 3, 5, 8, 13, 21, 34, 55, 89]\n",
    "\n",
    "\"\"\" \n",
    "\n",
    "arr = [1, 1, 2, 3, 5, 8, 13, 21, 34, 55, 89]\n",
    "\n",
    "new_arr = []\n",
    "\n",
    "for list_item in arr :\n",
    "    \n",
    "    if list_item < 5 :\n",
    "        new_arr.append(list_item)\n",
    "\n",
    "print(\"Less than 5 integer value :\", new_arr)"
   ]
  },
  {
   "cell_type": "code",
   "execution_count": null,
   "metadata": {},
   "outputs": [],
   "source": []
  }
 ],
 "metadata": {
  "kernelspec": {
   "display_name": "Python 3",
   "language": "python",
   "name": "python3"
  },
  "language_info": {
   "codemirror_mode": {
    "name": "ipython",
    "version": 3
   },
   "file_extension": ".py",
   "mimetype": "text/x-python",
   "name": "python",
   "nbconvert_exporter": "python",
   "pygments_lexer": "ipython3",
   "version": "3.7.4"
  }
 },
 "nbformat": 4,
 "nbformat_minor": 2
}
