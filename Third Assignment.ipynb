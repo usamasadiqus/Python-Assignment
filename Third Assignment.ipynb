{
 "cells": [
  {
   "cell_type": "code",
   "execution_count": 124,
   "metadata": {},
   "outputs": [
    {
     "name": "stdout",
     "output_type": "stream",
     "text": [
      "First value : 2\n",
      "Operator : **\n",
      "Second value : 10\n",
      "\n",
      "Answer 1024\n"
     ]
    }
   ],
   "source": [
    "\"\"\"\n",
    "Q1) Make a calculator using Python with addition, subtraction, multiplication, division and power.\n",
    "\n",
    "\"\"\"\n",
    "\n",
    "val1 = int(input(\"First value : \"))\n",
    "operator = input(\"Operator : \")\n",
    "val2 = int(input(\"Second value : \"))\n",
    "\n",
    "if operator == \"+\" :\n",
    "    val = val1 + val2\n",
    "    print(\"\\nAnswer\", val)\n",
    "elif operator == \"-\" :\n",
    "    val = val1 - val2\n",
    "    print(\"\\nAnswer\", val)\n",
    "elif operator == \"*\" :\n",
    "    val = val1 * val2\n",
    "    print(\"\\nAnswer\", val)\n",
    "elif operator == \"/\" :\n",
    "    val = val1 / val2\n",
    "    print(\"\\nAnswer\", val)\n",
    "elif operator == \"**\" :\n",
    "    val = val1 ** val2\n",
    "    print(\"\\nAnswer\", val)\n",
    "else :\n",
    "    print(\"\\nEnter correct operator\")"
   ]
  },
  {
   "cell_type": "code",
   "execution_count": 125,
   "metadata": {},
   "outputs": [
    {
     "name": "stdout",
     "output_type": "stream",
     "text": [
      "Numeric value : [4, 7, 88.302]\n"
     ]
    }
   ],
   "source": [
    "\"\"\"\n",
    "Q2) Write a program to check if there is any numeric value in list using for loop?\n",
    "\n",
    "\"\"\"\n",
    "\n",
    "my_list = [\"usama\", 4, 7, \"66\", 88.302]\n",
    "num_value = []\n",
    "\n",
    "for find in my_list :\n",
    "    if type(find) == int or type(find) == float :\n",
    "        num_value.append(find)\n",
    "        \n",
    "print(\"Numeric value :\", num_value)"
   ]
  },
  {
   "cell_type": "code",
   "execution_count": 131,
   "metadata": {},
   "outputs": [
    {
     "name": "stdout",
     "output_type": "stream",
     "text": [
      "Added key is : Name\n"
     ]
    }
   ],
   "source": [
    "\"\"\"\n",
    "Q3) Write a Python script to add a key to a dictionary?\n",
    "\n",
    "\"\"\"\n",
    "my_dictionary = {}\n",
    "my_dictionary[\"Name\"] = \"Usama\"\n",
    "\n",
    "for fetch_key in my_dictionary.keys() :\n",
    "    print(\"Added key is :\", fetch_key)"
   ]
  },
  {
   "cell_type": "code",
   "execution_count": 132,
   "metadata": {},
   "outputs": [
    {
     "name": "stdout",
     "output_type": "stream",
     "text": [
      "Sum all the numeric is : 484.658\n"
     ]
    }
   ],
   "source": [
    "\"\"\"\n",
    "Q4) Write a Python program to sum all the numeric items in a dictionary?\n",
    "\n",
    "\"\"\"\n",
    "sum_value = 0\n",
    "my_dictionary = {\"A\": 25, \"B\": 87.9, \"C\": 371.758, \"D\": \"455\", \"E\": \"752\"}\n",
    "\n",
    "for fetch_num in my_dictionary.values() :\n",
    "    if type(fetch_num) == int or type(fetch_num) == float :\n",
    "        sum_value = sum_value + fetch_num\n",
    "        \n",
    "print(\"Sum all the numeric is :\", sum_value)"
   ]
  },
  {
   "cell_type": "code",
   "execution_count": 139,
   "metadata": {},
   "outputs": [
    {
     "name": "stdout",
     "output_type": "stream",
     "text": [
      "Duplicate values [25, 'B', 25, 'B']\n"
     ]
    }
   ],
   "source": [
    "\"\"\"\n",
    "Q5) Write a program to identify duplicate values from list?\n",
    "\n",
    "\"\"\"\n",
    "my_list = [25, 'B', 'W', 45, 25, 'E', 'B']\n",
    "duplicate_value = []\n",
    "\n",
    "for fetch_value in my_list :\n",
    "    if my_list.count(fetch_value) > 1 :\n",
    "        duplicate_value.append(fetch_value)\n",
    "        \n",
    "print(\"Duplicate values\", duplicate_value)"
   ]
  },
  {
   "cell_type": "code",
   "execution_count": 133,
   "metadata": {},
   "outputs": [
    {
     "name": "stdout",
     "output_type": "stream",
     "text": [
      "B Already Exists\n"
     ]
    }
   ],
   "source": [
    "\"\"\"\n",
    "Q6) Write a Python script to check if a given key already exists in a dictionary?\n",
    "\n",
    "\"\"\"\n",
    "my_dictionary = {'A': 25, 'B': 87.9, 'C': 371.758, 'D': '455', 'E': '752'}\n",
    "givenkey = 'B'\n",
    "\n",
    "for fetch_key in my_dictionary.keys() :\n",
    "    if fetch_key == givenkey :\n",
    "        print(givenkey, 'Already Exists')"
   ]
  },
  {
   "cell_type": "code",
   "execution_count": null,
   "metadata": {},
   "outputs": [],
   "source": []
  }
 ],
 "metadata": {
  "kernelspec": {
   "display_name": "Python 3",
   "language": "python",
   "name": "python3"
  },
  "language_info": {
   "codemirror_mode": {
    "name": "ipython",
    "version": 3
   },
   "file_extension": ".py",
   "mimetype": "text/x-python",
   "name": "python",
   "nbconvert_exporter": "python",
   "pygments_lexer": "ipython3",
   "version": "3.7.4"
  }
 },
 "nbformat": 4,
 "nbformat_minor": 2
}
